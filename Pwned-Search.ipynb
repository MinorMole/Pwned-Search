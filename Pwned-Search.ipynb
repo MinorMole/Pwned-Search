{
  "nbformat": 4,
  "nbformat_minor": 0,
  "metadata": {
    "colab": {
      "name": "Pwned Search",
      "version": "0.3.2",
      "provenance": [],
      "include_colab_link": true
    },
    "kernelspec": {
      "name": "python3",
      "display_name": "Python 3"
    }
  },
  "cells": [
    {
      "cell_type": "markdown",
      "metadata": {
        "id": "view-in-github",
        "colab_type": "text"
      },
      "source": [
        "<a href=\"https://colab.research.google.com/github/MinorMole/Pwned-Search/blob/master/Pwned-Search.ipynb\" target=\"_parent\"><img src=\"https://colab.research.google.com/assets/colab-badge.svg\" alt=\"Open In Colab\"/></a>"
      ]
    },
    {
      "metadata": {
        "id": "Cn3WFn7_N1xe",
        "colab_type": "code",
        "cellView": "form",
        "colab": {}
      },
      "cell_type": "code",
      "source": [
        "# ============================= FORM ============================= #\n",
        "#@markdown <center><h2>Pwned Search</h2></center>\n",
        "Password = \"\" #@param {type:\"string\"}\n",
        "#@markdown - [How does it work?](https://youtu.be/hhUb5iknVJs?t=187)\n",
        "#@markdown - [GitHub](https://github.com/MinorMole/Pwned-Search)\n",
        "# ================================================================ #\n",
        "\n",
        "import sys, hashlib, requests\n",
        "\n",
        "def lookup_pwned_api(pwd):\n",
        "    sha1pwd = hashlib.sha1(pwd.encode('utf-8')).hexdigest().upper()\n",
        "    head, tail = sha1pwd[:5], sha1pwd[5:]\n",
        "    url = 'https://api.pwnedpasswords.com/range/' + head\n",
        "    res = requests.get(url)\n",
        "    if res.status_code != 200:\n",
        "        raise RuntimeError('Error fetching \"{}\": {}'.format(\n",
        "            url, res.status_code))\n",
        "    hashes = (line.split(':') for line in res.text.splitlines())\n",
        "    count = next((int(count) for t, count in hashes if t == tail), 0)\n",
        "    return sha1pwd, count\n",
        "            \n",
        "def main(args):\n",
        "  pwd = args.strip()\n",
        "  if pwd == \"\":\n",
        "    print(\"Password field is empty.\")\n",
        "  else:\n",
        "    try:\n",
        "      sha1pwd, count = lookup_pwned_api(pwd)\n",
        "      if count:\n",
        "        foundmsg = \"{0} was found with {1} occurrences (hash: {2})\"\n",
        "        print(foundmsg.format(pwd, count, sha1pwd))\n",
        "      else:\n",
        "        print(\"{} was not found\".format(pwd))\n",
        "    except UnicodeError:\n",
        "      errormsg = sys.exc_info()[1]\n",
        "      print(\"{0} could not be checked: {1}\".format(pwd, errormsg))\n",
        "  \n",
        "main(Password)"
      ],
      "execution_count": 0,
      "outputs": []
    }
  ]
}
